{
 "cells": [
  {
   "cell_type": "markdown",
   "metadata": {},
   "source": [
    "# Logistic Regression"
   ]
  },
  {
   "cell_type": "code",
   "execution_count": 20,
   "metadata": {},
   "outputs": [],
   "source": [
    "import pandas as pd\n",
    "import numpy as np\n",
    "from sklearn import metrics\n",
    "from sklearn.linear_model import LogisticRegression\n",
    "from sklearn.preprocessing import LabelEncoder, OneHotEncoder, StandardScaler\n",
    "from sklearn.impute import SimpleImputer\n"
   ]
  },
  {
   "cell_type": "code",
   "execution_count": 21,
   "metadata": {},
   "outputs": [],
   "source": [
    "fold = 0"
   ]
  },
  {
   "cell_type": "code",
   "execution_count": 22,
   "metadata": {},
   "outputs": [],
   "source": [
    "# Load the full training data with folds\n",
    "df = pd.read_csv(\"../input/train_folds.csv\")\n",
    "\n",
    "# Drop the PassengerId column\n",
    "df.drop(columns=['PassengerId'], inplace=True)"
   ]
  },
  {
   "cell_type": "code",
   "execution_count": 23,
   "metadata": {},
   "outputs": [],
   "source": [
    "# Create a new columns from the split values of the Cabin column\n",
    "df[['Cabin_Deck', 'Cabin_Number', 'Cabin_Side']] = df.Cabin.str.split(\"/\", expand=True)\n",
    "df.drop(columns=['Cabin'], inplace=True)\n",
    "\n",
    "# Convert the Number column to numeric\n",
    "df['Cabin_Number'] = pd.to_numeric(df['Cabin_Number'], errors='coerce')"
   ]
  },
  {
   "cell_type": "code",
   "execution_count": 24,
   "metadata": {},
   "outputs": [],
   "source": [
    "# Split the data into training and validation\n",
    "df_train = df[df.kfold != fold].reset_index(drop=True)\n",
    "df_valid = df[df.kfold == fold].reset_index(drop=True)\n",
    "\n",
    "# Drop the kfold column\n",
    "df_train = df_train.drop(columns=['kfold'])\n",
    "df_valid = df_valid.drop(columns=['kfold'])"
   ]
  },
  {
   "cell_type": "code",
   "execution_count": 25,
   "metadata": {},
   "outputs": [],
   "source": [
    "# Numerical columns\n",
    "num_cols = df.select_dtypes(include=np.number).columns.tolist()\n",
    "cat_cols = df.select_dtypes(include='object').columns.tolist()\n",
    "\n",
    "num_cols.remove('kfold')"
   ]
  },
  {
   "cell_type": "code",
   "execution_count": 26,
   "metadata": {},
   "outputs": [],
   "source": [
    "# Separate the features and target\n",
    "X_train = df_train.drop('Transported', axis=1)\n",
    "X_valid = df_valid.drop('Transported', axis=1)\n",
    "y_train = df_train.Transported\n",
    "y_valid = df_valid.Transported"
   ]
  },
  {
   "cell_type": "code",
   "execution_count": 27,
   "metadata": {},
   "outputs": [],
   "source": [
    "# Impute missing values\n",
    "num_imputer = SimpleImputer(strategy='mean')\n",
    "cat_imputer = SimpleImputer(strategy='most_frequent')\n",
    "X_train[num_cols] = num_imputer.fit_transform(X_train[num_cols])\n",
    "X_valid[num_cols] = num_imputer.transform(X_valid[num_cols])\n",
    "X_train[cat_cols] = cat_imputer.fit_transform(X_train[cat_cols])\n",
    "X_valid[cat_cols] = cat_imputer.transform(X_valid[cat_cols])"
   ]
  },
  {
   "cell_type": "code",
   "execution_count": 28,
   "metadata": {},
   "outputs": [],
   "source": [
    "# Scale the numerical columns\n",
    "scaler = StandardScaler()\n",
    "X_train[num_cols] = scaler.fit_transform(X_train[num_cols])\n",
    "X_valid[num_cols] = scaler.transform(X_valid[num_cols])"
   ]
  },
  {
   "cell_type": "code",
   "execution_count": 29,
   "metadata": {},
   "outputs": [],
   "source": [
    "# One-hot encode the categorical columns\n",
    "ohe = OneHotEncoder()\n",
    "\n",
    "# Fit ohe on training + validation features\n",
    "full_data = pd.concat(\n",
    "    [X_train[cat_cols], X_valid[cat_cols]],\n",
    "    axis=0\n",
    ")\n",
    "ohe.fit(full_data)\n",
    "\n",
    "# Transform training and validation features\n",
    "X_train_ohe = ohe.transform(X_train[cat_cols]).toarray()\n",
    "X_valid_ohe = ohe.transform(X_valid[cat_cols]).toarray()\n",
    "\n",
    "# Create the final dataset\n",
    "X_train = np.hstack((X_train[num_cols].values, X_train_ohe))\n",
    "X_valid = np.hstack((X_valid[num_cols].values, X_valid_ohe))\n"
   ]
  },
  {
   "cell_type": "code",
   "execution_count": 30,
   "metadata": {},
   "outputs": [],
   "source": [
    "# Initialize the model\n",
    "model = LogisticRegression()\n",
    "\n",
    "# Fit the model on training data\n",
    "model.fit(X_train, y_train)\n",
    "\n",
    "# Predict on the validation data\n",
    "preds = model.predict(X_valid)"
   ]
  },
  {
   "cell_type": "code",
   "execution_count": 31,
   "metadata": {},
   "outputs": [
    {
     "name": "stdout",
     "output_type": "stream",
     "text": [
      "Fold=0, Accuracy=0.7717078780908568\n"
     ]
    }
   ],
   "source": [
    "# Calculate the accuracy\n",
    "accuracy = metrics.accuracy_score(y_valid, preds)\n",
    "print(f\"Fold={fold}, Accuracy={accuracy}\")"
   ]
  }
 ],
 "metadata": {
  "kernelspec": {
   "display_name": "env",
   "language": "python",
   "name": "python3"
  },
  "language_info": {
   "codemirror_mode": {
    "name": "ipython",
    "version": 3
   },
   "file_extension": ".py",
   "mimetype": "text/x-python",
   "name": "python",
   "nbconvert_exporter": "python",
   "pygments_lexer": "ipython3",
   "version": "3.12.4"
  }
 },
 "nbformat": 4,
 "nbformat_minor": 2
}
